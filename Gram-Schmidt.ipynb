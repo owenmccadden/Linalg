{
 "cells": [
  {
   "cell_type": "code",
   "execution_count": 1,
   "metadata": {},
   "outputs": [],
   "source": [
    "import numpy as np\n",
    "from sympy import *\n",
    "\n",
    "init_printing()"
   ]
  },
  {
   "cell_type": "code",
   "execution_count": 2,
   "metadata": {},
   "outputs": [],
   "source": [
    "def get_length(v):\n",
    "    length = 0\n",
    "    for i in v:\n",
    "        length += i ** 2\n",
    "    return np.sqrt(length)"
   ]
  },
  {
   "cell_type": "code",
   "execution_count": 3,
   "metadata": {},
   "outputs": [],
   "source": [
    "def get_unit_vector(v):\n",
    "    return v / get_length(v)"
   ]
  },
  {
   "cell_type": "code",
   "execution_count": 60,
   "metadata": {},
   "outputs": [],
   "source": [
    "def gram_schmidt(b):\n",
    "    orthonormal_basis = []\n",
    "    for i in b:\n",
    "        temp = i\n",
    "        for j in range(0, len(orthonormal_basis)):\n",
    "            temp = temp - np.dot(np.dot(temp, orthonormal_basis[j]), orthonormal_basis[j])\n",
    "        print(temp)\n",
    "        orthonormal_basis.append(get_unit_vector(temp))\n",
    "    return np.array(orthonormal_basis)"
   ]
  },
  {
   "cell_type": "code",
   "execution_count": 44,
   "metadata": {},
   "outputs": [
    {
     "data": {
      "text/plain": [
       "array([[ 0.        ,  0.        ,  0.70710678,  0.70710678],\n",
       "       [ 0.        ,  0.81649658,  0.40824829, -0.40824829],\n",
       "       [ 0.8660254 ,  0.28867513, -0.28867513,  0.28867513]])"
      ]
     },
     "execution_count": 44,
     "metadata": {},
     "output_type": "execute_result"
    }
   ],
   "source": [
    "gram_schmidt(np.array([[0,0,1,1],[0,1,1,0],[1,1,0,0]]))"
   ]
  },
  {
   "cell_type": "code",
   "execution_count": 45,
   "metadata": {},
   "outputs": [
    {
     "data": {
      "text/plain": [
       "array([[ 0.5       ,  0.5       ,  0.5       ,  0.5       ],\n",
       "       [-0.69337525, -0.13867505,  0.13867505,  0.69337525],\n",
       "       [-0.12126781, -0.36380344,  0.84887469, -0.36380344]])"
      ]
     },
     "execution_count": 45,
     "metadata": {},
     "output_type": "execute_result"
    }
   ],
   "source": [
    "gram_schmidt(np.array([[1,1,1,1],[-2,0,1,3], [-4,-3,3,0]]))"
   ]
  },
  {
   "cell_type": "code",
   "execution_count": 52,
   "metadata": {},
   "outputs": [
    {
     "data": {
      "text/plain": [
       "array([[-4.08248290e-01, -4.08248290e-01, -8.16496581e-01,\n",
       "         0.00000000e+00],\n",
       "       [-8.16496581e-01,  9.06493304e-17,  4.08248290e-01,\n",
       "         4.08248290e-01],\n",
       "       [-2.88675135e-01,  8.66025404e-01, -2.88675135e-01,\n",
       "        -2.88675135e-01]])"
      ]
     },
     "execution_count": 52,
     "metadata": {},
     "output_type": "execute_result"
    }
   ],
   "source": [
    "gram_schmidt(np.array([[-1,-1,-2,0],[-3.5,-1.5,-2,1],[-6,11,-5.5,-3.5]]))"
   ]
  },
  {
   "cell_type": "code",
   "execution_count": 54,
   "metadata": {},
   "outputs": [
    {
     "data": {
      "text/plain": [
       "array([[1., 0., 0.],\n",
       "       [0., 0., 1.],\n",
       "       [0., 1., 0.]])"
      ]
     },
     "execution_count": 54,
     "metadata": {},
     "output_type": "execute_result"
    }
   ],
   "source": [
    "gram_schmidt([[1,0,0],[2,0,3],[4,5,6]])"
   ]
  },
  {
   "cell_type": "code",
   "execution_count": 55,
   "metadata": {},
   "outputs": [
    {
     "data": {
      "text/plain": [
       "array([[ 0.70710678,  0.70710678,  0.        ],\n",
       "       [ 0.40824829, -0.40824829,  0.81649658],\n",
       "       [-0.57735027,  0.57735027,  0.57735027]])"
      ]
     },
     "execution_count": 55,
     "metadata": {},
     "output_type": "execute_result"
    }
   ],
   "source": [
    "gram_schmidt([[1,1,0],[1,0,1],[0,1,1]])"
   ]
  },
  {
   "cell_type": "code",
   "execution_count": 59,
   "metadata": {},
   "outputs": [
    {
     "data": {
      "text/plain": [
       "array([-3.50000003, -1.50000001, -0.49999999,  1.50000003])"
      ]
     },
     "execution_count": 59,
     "metadata": {},
     "output_type": "execute_result"
    }
   ],
   "source": [
    "q1 = np.array([ 0.5       ,  0.5       ,  0.5       ,  0.5       ])\n",
    "q2 = np.array([-0.69337525, -0.13867505,  0.13867505,  0.69337525])\n",
    "\n",
    "b = np.array([-4,-3,3,0])\n",
    "\n",
    "p1 = np.dot(np.dot(b, q1), q1)\n",
    "p2 = np.dot(np.dot(b, q2), q2)\n",
    "p1+p2"
   ]
  },
  {
   "cell_type": "code",
   "execution_count": 61,
   "metadata": {},
   "outputs": [
    {
     "name": "stdout",
     "output_type": "stream",
     "text": [
      "[1, -1, 0, 0]\n",
      "[ 0.5  0.5 -1.   0. ]\n",
      "[ 0.33333333  0.33333333  0.33333333 -1.        ]\n"
     ]
    },
    {
     "data": {
      "text/plain": [
       "array([[ 0.70710678, -0.70710678,  0.        ,  0.        ],\n",
       "       [ 0.40824829,  0.40824829, -0.81649658,  0.        ],\n",
       "       [ 0.28867513,  0.28867513,  0.28867513, -0.8660254 ]])"
      ]
     },
     "execution_count": 61,
     "metadata": {},
     "output_type": "execute_result"
    }
   ],
   "source": [
    "gram_schmidt([[1,-1,0,0],[0,1,-1,0],[0,0,1,-1]])"
   ]
  },
  {
   "cell_type": "code",
   "execution_count": null,
   "metadata": {},
   "outputs": [],
   "source": []
  }
 ],
 "metadata": {
  "kernelspec": {
   "display_name": "Python 3",
   "language": "python",
   "name": "python3"
  },
  "language_info": {
   "codemirror_mode": {
    "name": "ipython",
    "version": 3
   },
   "file_extension": ".py",
   "mimetype": "text/x-python",
   "name": "python",
   "nbconvert_exporter": "python",
   "pygments_lexer": "ipython3",
   "version": "3.8.5"
  }
 },
 "nbformat": 4,
 "nbformat_minor": 4
}
